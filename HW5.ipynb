{
 "cells": [
  {
   "cell_type": "code",
   "execution_count": null,
   "metadata": {},
   "outputs": [],
   "source": [
    "\n",
    "#Вы работаете секретарем и вам постоянно приходят различные документы. Вы должны быть очень внимательны, чтобы не потерять ни один документ. Каталог документов хранится в следующем виде:\n",
    "\n",
    "#In [4]:\n",
    "#documents = [\n",
    "#    {'type': 'passport', 'number': '2207 876234', 'name': 'Василий Гупкин'},\n",
    " #   {'type': 'invoice', 'number': '11-2', 'name': 'Геннадий Покемонов'},\n",
    " #   {'type': 'insurance', 'number': '10006', 'name': 'Аристарх Павлов'}\n",
    "#]\n",
    "#Перечень полок, на которых находятся документы хранится в следующем виде:\n",
    "\n",
    "#In [5]:\n",
    "#directories = {\n",
    "#    '1': ['2207 876234', '11-2'],\n",
    " #   '2': ['10006'],\n",
    " #   '3': []\n",
    "#}\n",
    "#Необходимо реализовать пользовательские команды (внимание! это не название функций, которые должны быть выразительными, \n",
    "#  а команды, которые вводит пользователь, чтобы получить необходимый результат):\n",
    "\n",
    "#p – people – команда, которая спросит номер документа и выведет имя человека, которому он принадлежит;\n",
    "#s – shelf – команда, которая спросит номер документа и выведет номер полки, на которой он находится\n",
    "#Правильно обработайте ситуации, когда пользователь будет вводить несуществующий документ.\n",
    "#l – list – команда, которая выведет список всех документов в формате\n",
    "#passport \"2207 876234\" \"Василий Гупкин\"\n",
    "#as – add shelf – команда, которая спросит номер новой полки и добавит ее в перечень. Предусмотрите случай, когда пользователь добавляет полку, которая уже существует.\n",
    "#d – delete – команда, которая спросит номер документа и удалит его из каталога и из перечня полок. Предусмотрите сценарий, когда пользователь вводит несуществующий документ;\n",
    "#m – move – команда, которая спросит номер документа и целевую полку и переместит его с текущей полки на целевую. Корректно обработайте кейсы, когда пользователь пытается переместить несуществующий документ или переместить документ на несуществующую полку;\n",
    "#a – add – команда, которая добавит новый документ в каталог и в перечень полок, спросив его номер, тип, имя владельца и номер полки, на котором он будет храниться. Корректно обработайте ситуацию, когда пользователь будет пытаться добавить документ на несуществующую полку."
   ]
  },
  {
   "cell_type": "code",
   "execution_count": 1,
   "metadata": {},
   "outputs": [],
   "source": [
    "documents = [\n",
    "    {'type': 'passport', 'number': '2207 876234', 'name': 'Василий Гупкин'},\n",
    "    {'type': 'invoice', 'number': '11-2', 'name': 'Геннадий Покемонов'},\n",
    "    {'type': 'insurance', 'number': '10006', 'name': 'Аристарх Павлов'}\n",
    "]"
   ]
  },
  {
   "cell_type": "code",
   "execution_count": 2,
   "metadata": {},
   "outputs": [],
   "source": [
    "directories = {\n",
    "    '1': ['2207 876234', '11-2'],\n",
    "    '2': ['10006'],\n",
    "    '3': []\n",
    "}"
   ]
  },
  {
   "cell_type": "code",
   "execution_count": null,
   "metadata": {},
   "outputs": [],
   "source": [
    "def main_menu():\n",
    "    while True:\n",
    "        user_input = input('Введите команду: ')\n",
    "        if user_input == 'p' :\n",
    "            def p():\n",
    "                document_number = input('Введите номер документа: ' )\n",
    "                x =[]\n",
    "                for x in documents:\n",
    "                    if x['number'] == document_number :\n",
    "                        print('Это ' + x['name'])\n",
    "                        break\n",
    "                if x['number ' ] != document_number:\n",
    "                    print('Документ не найден')\n",
    "            print(p())\n",
    "                  \n",
    "        if user_input == 's':\n",
    "            def s(document_number):\n",
    "                for k in directories:\n",
    "                    if document_number in directories[k]:\n",
    "                        return k\n",
    "                    return \"Документ не найден\"\n",
    "\n",
    "            document_number = input(\"Введите номер документа: \")\n",
    "            print(s(document_number))\n",
    "        if user_input == 'l':    \n",
    "            def l():\n",
    "                for x in documents:\n",
    "                    type = x['type']\n",
    "                    number = x['number']\n",
    "                    name = x['name']\n",
    "                    print('{0}\"{1}\" \"{2}\"'.format(type, number, name))         \n",
    "            print(l())\n",
    "            \n",
    "        if user_input == 'as':\n",
    "            def add_shelf():\n",
    "                number = input(\"Введите номер новой полки: \")\n",
    "                directories[number] = []           \n",
    "            print(add_shelf())\n",
    "            \n",
    "        if user_input == 'd':   \n",
    "            def d(doc_number):\n",
    "                initial_len = len(documents)\n",
    "                for i, d in enumerate(documents):\n",
    "                    if d[\"number\"] == doc_number:\n",
    "                        documents.pop(i)\n",
    "                if initial_len == len(documents):\n",
    "                    return \"Документ не существует\"\n",
    "                for key, value in directories.items():\n",
    "                    if doc_number in value:\n",
    "                        value.remove(doc_number)\n",
    "                return \"Документ успешно удален\"\n",
    "            doc_number = input(\"Введите номер документа, который хотите удалить: \")\n",
    "            print(d(doc_number))\n",
    "            print(documents)\n",
    "            print(directories)     \n",
    "        if user_input == 'm':\n",
    "            def m(doc_number, shelf_id):\n",
    "                doc_existence = False\n",
    "\n",
    "                if shelf_id not in directories:\n",
    "                    return \"Полки не существует\"\n",
    "  \n",
    "                for key, value in directories.items():\n",
    "                    if doc_number in value:\n",
    "                        doc_existence = True\n",
    "                        directories[shelf_id] += [doc_number]\n",
    "                        value.remove(doc_number)\n",
    "\n",
    "                if doc_existence:\n",
    "                    return \"Документ успешно перемещен\"\n",
    "                else :\n",
    "                    return \"Документ не существует\"\n",
    "\n",
    "            doc_number = input(\"Введите номер документа,который хоитите переместить: \")\n",
    "            shelf_id = input(\"Введит номер полки, на которую хотите перемести документ: \")\n",
    "            print(m(doc_number, shelf_id))\n",
    "            print(directories)   \n",
    "        if user_input == 'a':\n",
    "            def a(doc_type, doc_number, doc_owner, shelf_id):\n",
    "                if shelf_id not in directories:\n",
    "                    return \"Полки не существует\"\n",
    "                new_doc = dict(type=doc_type, number=doc_number, name=doc_owner)\n",
    "                documents.append(new_doc)\n",
    "                directories[shelf_id] += [doc_number]\n",
    "                return \"Документ успешно добавлен\"\n",
    "\n",
    "            doc_type = input(\"Введите тип докемента: \")\n",
    "            doc_number = input(\"Введите номер документа: \")\n",
    "            doc_owner = input(\"Введите имя владельца документа: \")\n",
    "            shelf_id = input(\"Введит номер полки {} : \".format(directories.keys()))\n",
    "            print(a(doc_type, doc_number, doc_owner, shelf_id))\n",
    "            print('')\n",
    "            print(documents)\n",
    "            print('')\n",
    "            print(directories)                      \n",
    "main_menu()"
   ]
  },
  {
   "cell_type": "code",
   "execution_count": 3,
   "metadata": {},
   "outputs": [
    {
     "name": "stdout",
     "output_type": "stream",
     "text": [
      "Введите номер документа: 11-2\n",
      "Геннадий Покемонов\n"
     ]
    }
   ],
   "source": [
    "document_number = input(\"Введите номер документа: \")\n",
    "def p(document_number):\n",
    "    for x in documents:\n",
    "        if x['number'] == document_number:\n",
    "            return x['name']\n",
    "print(p(document_number))"
   ]
  },
  {
   "cell_type": "code",
   "execution_count": 4,
   "metadata": {},
   "outputs": [
    {
     "name": "stdout",
     "output_type": "stream",
     "text": [
      "passport\"2207 876234\" \"Василий Гупкин\"\n",
      "invoice\"11-2\" \"Геннадий Покемонов\"\n",
      "insurance\"10006\" \"Аристарх Павлов\"\n"
     ]
    }
   ],
   "source": [
    "def l():\n",
    "    for x in documents:\n",
    "        type = x['type']\n",
    "        number = x['number']\n",
    "        name = x['name']\n",
    "        print('{0}\"{1}\" \"{2}\"'.format(type, number, name))\n",
    "l()\n",
    "        #document_number = input(\"Введите номер документа: \")\n",
    "#print(p(document_number))"
   ]
  },
  {
   "cell_type": "code",
   "execution_count": 5,
   "metadata": {},
   "outputs": [
    {
     "name": "stdout",
     "output_type": "stream",
     "text": [
      "Введите номер документа: 11-2\n",
      "1\n"
     ]
    }
   ],
   "source": [
    "def s(document_number):\n",
    "    for k in directories:\n",
    "        if document_number in directories[k]:\n",
    "            return k\n",
    "    return \"document undefined\"\n",
    "\n",
    "document_number = input(\"Введите номер документа: \")\n",
    "print(s(document_number))"
   ]
  },
  {
   "cell_type": "code",
   "execution_count": 6,
   "metadata": {},
   "outputs": [
    {
     "name": "stdout",
     "output_type": "stream",
     "text": [
      "Введите номер новой полки: 4\n"
     ]
    }
   ],
   "source": [
    "def add_shelf():\n",
    "    number = input(\"Введите номер новой полки: \")\n",
    "    directories[number] = []\n",
    "add_shelf()"
   ]
  },
  {
   "cell_type": "code",
   "execution_count": 7,
   "metadata": {},
   "outputs": [
    {
     "name": "stdout",
     "output_type": "stream",
     "text": [
      "Введите номер документа, который хотите удалить: 11-2\n",
      "Документ успешно удален\n",
      "[{'type': 'passport', 'number': '2207 876234', 'name': 'Василий Гупкин'}, {'type': 'insurance', 'number': '10006', 'name': 'Аристарх Павлов'}]\n",
      "{'1': ['2207 876234'], '2': ['10006'], '3': [], '4': []}\n"
     ]
    }
   ],
   "source": [
    "def d(doc_number):\n",
    "    initial_len = len(documents)\n",
    "    for i, d in enumerate(documents):\n",
    "        if d[\"number\"] == doc_number:\n",
    "            documents.pop(i)\n",
    "\n",
    "    if initial_len == len(documents):\n",
    "        return \"Документ не существует\"\n",
    "\n",
    "    for key, value in directories.items():\n",
    "        if doc_number in value:\n",
    "            value.remove(doc_number)\n",
    "\n",
    "    return \"Документ успешно удален\"\n",
    "\n",
    "doc_number = input(\"Введите номер документа, который хотите удалить: \")\n",
    "print(d(doc_number))\n",
    "print(documents)\n",
    "print(directories)"
   ]
  },
  {
   "cell_type": "code",
   "execution_count": 8,
   "metadata": {},
   "outputs": [
    {
     "name": "stdout",
     "output_type": "stream",
     "text": [
      "Введите номер документа,который хоитите переместить: 11-2\n",
      "Введит номер полки, на которую хотите перемести документ: 3\n",
      "Документ не существует\n",
      "{'1': ['2207 876234'], '2': ['10006'], '3': [], '4': []}\n"
     ]
    }
   ],
   "source": [
    "def m(doc_number, shelf_id):\n",
    "    doc_existence = False\n",
    "\n",
    "    if shelf_id not in directories:\n",
    "        return \"Полки не существует\"\n",
    "  \n",
    "    for key, value in directories.items():\n",
    "        if doc_number in value:\n",
    "            doc_existence = True\n",
    "            directories[shelf_id] += [doc_number]\n",
    "            value.remove(doc_number)\n",
    "\n",
    "    if doc_existence:\n",
    "        return \"Документ успешно перемещен\"\n",
    "    else :\n",
    "        return \"Документ не существует\"\n",
    "\n",
    "\n",
    "doc_number = input(\"Введите номер документа,который хоитите переместить: \")\n",
    "shelf_id = input(\"Введит номер полки, на которую хотите перемести документ: \")\n",
    "print(m(doc_number, shelf_id))\n",
    "print(directories)"
   ]
  },
  {
   "cell_type": "code",
   "execution_count": 9,
   "metadata": {},
   "outputs": [
    {
     "name": "stdout",
     "output_type": "stream",
     "text": [
      "Введите тип докемента: passport\n",
      "Введите номер документа: 567890\n",
      "Введите имя владельца документа: Ivanov Ivan\n",
      "Введит номер полки dict_keys(['1', '2', '3', '4']) : 4\n",
      "Документ успешно добавлен\n",
      "\n",
      "[{'type': 'passport', 'number': '2207 876234', 'name': 'Василий Гупкин'}, {'type': 'insurance', 'number': '10006', 'name': 'Аристарх Павлов'}, {'type': 'passport', 'number': '567890', 'name': 'Ivanov Ivan'}]\n",
      "\n",
      "{'1': ['2207 876234'], '2': ['10006'], '3': [], '4': ['567890']}\n"
     ]
    }
   ],
   "source": [
    "def a(doc_type, doc_number, doc_owner, shelf_id):\n",
    "    if shelf_id not in directories:\n",
    "        return \"Полки не существует\" \n",
    "    new_doc = dict(type=doc_type, number=doc_number, name=doc_owner)\n",
    "\n",
    "    documents.append(new_doc)\n",
    "    directories[shelf_id] += [doc_number]\n",
    "\n",
    "    return \"Документ успешно добавлен\"\n",
    "\n",
    "doc_type = input(\"Введите тип докемента: \")\n",
    "doc_number = input(\"Введите номер документа: \")\n",
    "doc_owner = input(\"Введите имя владельца документа: \")\n",
    "shelf_id = input(\"Введит номер полки {} : \".format(directories.keys()))\n",
    "print(a(doc_type, doc_number, doc_owner, shelf_id))\n",
    "print('')\n",
    "print(documents)\n",
    "print('')\n",
    "print(directories)"
   ]
  },
  {
   "cell_type": "code",
   "execution_count": null,
   "metadata": {},
   "outputs": [],
   "source": []
  }
 ],
 "metadata": {
  "kernelspec": {
   "display_name": "Python 3",
   "language": "python",
   "name": "python3"
  },
  "language_info": {
   "codemirror_mode": {
    "name": "ipython",
    "version": 3
   },
   "file_extension": ".py",
   "mimetype": "text/x-python",
   "name": "python",
   "nbconvert_exporter": "python",
   "pygments_lexer": "ipython3",
   "version": "3.7.6"
  }
 },
 "nbformat": 4,
 "nbformat_minor": 4
}
